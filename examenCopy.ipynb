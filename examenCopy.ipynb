{
 "cells": [
  {
   "cell_type": "markdown",
   "id": "d4ae8265",
   "metadata": {},
   "source": [
    "####  Evaluación 1\n",
    "#### NOMBRE(S) APELLIDO(S)"
   ]
  },
  {
   "attachments": {},
   "cell_type": "markdown",
   "id": "bb646d0b",
   "metadata": {},
   "source": [
    "Utilizando numpy, realiza los siguientes ejercicios:\n",
    "\n",
    "    1 Crea un arreglo de números aleatorios entre 3 y 5, cuya forma sea de 10x8x2\n"
   ]
  },
  {
   "cell_type": "code",
   "execution_count": 1,
   "id": "3beff668",
   "metadata": {},
   "outputs": [],
   "source": [
    "# Aquí tu respuesta\n",
    "print(\"Ejemplo de línea\")"
   ]
  },
  {
   "attachments": {},
   "cell_type": "markdown",
   "id": "95a3a1bf",
   "metadata": {},
   "source": [
    "    2 Utiliza booleanos como índices para imprimir los números del arreglo cuyo valor sea mayor que 4.7\n",
    "    3 Encuentra el valor promedio del arreglo, calculado sobre la 3era dimensión (debes obtener 80 números)"
   ]
  },
  {
   "cell_type": "code",
   "execution_count": 4,
   "id": "184c1b95",
   "metadata": {},
   "outputs": [],
   "source": [
    "# Aquí tu respuesta\n"
   ]
  },
  {
   "attachments": {},
   "cell_type": "markdown",
   "id": "52794d63",
   "metadata": {},
   "source": [
    "Utilizando numpy, scipy y matplotlib, realiza los siguientes ejercicios:\n",
    "\n",
    "    1 Utiliza numpy para cargar el archivo de datos \"Top_secret.csv\". Específicamente, del documento carga la columna con los valores \"Data_value\" y la columna con los valores para \"Period\".\n",
    "    2 A todos los elementos obtenidos de la columna \"Data_value\", súmale un número aleatorio entre 0 y 100.\n"
   ]
  },
  {
   "cell_type": "code",
   "execution_count": 9,
   "id": "57671b39",
   "metadata": {},
   "outputs": [
    {
     "data": {
      "text/plain": [
       "array([[  6., 426.],\n",
       "       [  6., 435.],\n",
       "       [  6., 360.],\n",
       "       [  6., 417.]])"
      ]
     },
     "execution_count": 9,
     "metadata": {},
     "output_type": "execute_result"
    }
   ],
   "source": [
    "# Aquí tu respuesta\n"
   ]
  },
  {
   "attachments": {},
   "cell_type": "markdown",
   "id": "83c60101",
   "metadata": {},
   "source": [
    "    3 Aplica el método de mínimos cuadrados para ajustar una recta a dichos datos (x es \"Period\" e y es \"Data_value\" modificado, es decir, después del paso anterior).\n",
    "    4 Utiliza matplotlib para graficar los datos originales y la recta que encontraste para verificar que buscar una aproximación lineal es razonable en este caso. Tu gráfica debería tener etiquetas para las dos curvas, título en los ejes x e y, y un título general para la gráfica. "
   ]
  },
  {
   "cell_type": "code",
   "execution_count": 5,
   "id": "f9c41a31",
   "metadata": {},
   "outputs": [],
   "source": [
    "# Aquí tu respuesta\n"
   ]
  },
  {
   "attachments": {},
   "cell_type": "markdown",
   "id": "40e26394",
   "metadata": {},
   "source": [
    "Utilizando numpy y matplotlib, realiza los siguientes ejercicios:\n",
    "\n",
    "    1 Utiliza numpy para cargar el archivo de datos \"Figura_geometrica.dat\" y grafica con puntos verdes las 200 parejas de puntos que contiene el archivo.\n",
    "    2 Crea una función que, sin utilizar ciclos, te permita desplazar sumar un vector arbitrario al conjunto de puntos que recién cargaste."
   ]
  },
  {
   "cell_type": "code",
   "execution_count": 6,
   "id": "1555438f",
   "metadata": {},
   "outputs": [],
   "source": [
    "# Aquí tu respuesta\n"
   ]
  },
  {
   "attachments": {},
   "cell_type": "markdown",
   "id": "92772c7f",
   "metadata": {},
   "source": [
    "    3 Utiliza tu función para desplazar el cuadrado original que obtuviste de \"Figura_geometrica.dat\", en 1.5 unidades en x y en 3.2 unidades en y. Grafica la nueva figura. Observa la imagen en donde se representa el resultado esperado (puntos negros representan la figura original y los rojos la figura desplazada con la función).  \n"
   ]
  },
  {
   "cell_type": "code",
   "execution_count": 8,
   "id": "7941b8be",
   "metadata": {},
   "outputs": [],
   "source": [
    "# Aquí tu respuesta\n"
   ]
  },
  {
   "cell_type": "markdown",
   "id": "d8bef497",
   "metadata": {},
   "source": [
    "<img src=\"./ResultadoEsperado.jpg\" width=\"400\" height=\"400\" />"
   ]
  },
  {
   "cell_type": "code",
   "execution_count": 9,
   "id": "561a0501",
   "metadata": {},
   "outputs": [],
   "source": [
    "# Aquí tu respuesta\n"
   ]
  }
 ],
 "metadata": {
  "kernelspec": {
   "display_name": "Python 3",
   "language": "python",
   "name": "python3"
  },
  "language_info": {
   "codemirror_mode": {
    "name": "ipython",
    "version": 3
   },
   "file_extension": ".py",
   "mimetype": "text/x-python",
   "name": "python",
   "nbconvert_exporter": "python",
   "pygments_lexer": "ipython3",
   "version": "3.10.1 (tags/v3.10.1:2cd268a, Dec  6 2021, 19:10:37) [MSC v.1929 64 bit (AMD64)]"
  },
  "vscode": {
   "interpreter": {
    "hash": "03f0c0b1f637f5f14c9e2254a4913201585d8e77c668ac768cced1bac7976248"
   }
  }
 },
 "nbformat": 4,
 "nbformat_minor": 5
}
